{
 "cells": [
  {
   "cell_type": "code",
   "execution_count": null,
   "metadata": {},
   "outputs": [],
   "source": [
    "import numpy as np\n",
    "from sklearn.metrics import mean_squared_error\n",
    "from numpy import mean, sqrt, square, arange\n",
    "import matplotlib.pyplot as plt\n",
    "import pandas as pd\n",
    "\n",
    "def rmse(predictions, targets):\n",
    "    return np.sqrt(((predictions - targets) ** 2).mean())\n",
    "\n",
    "# print(\"rms error is: \" + str(rmse_val))\n",
    "file = pd.read_csv(\"Hasil.csv\")\n",
    "file"
   ]
  },
  {
   "cell_type": "code",
   "execution_count": null,
   "metadata": {},
   "outputs": [],
   "source": [
    "import csv\n",
    "from csv import reader\n",
    "with open('mixedRekapFinal.csv', 'r') as old_csv:\n",
    "    csv_reader = csv.reader(old_csv)\n",
    "    with open('oof.csv', 'w',newline='') as new_csv:\n",
    "        csv_writer = csv.writer(new_csv)\n",
    "        for i, row in enumerate(csv_reader):\n",
    "            if i != 0:\n",
    "                aa=np.array(row[1])\n",
    "                ab=np.array(row[3])\n",
    "                ac=np.array(row[6])\n",
    "                ad=np.array(row[9])\n",
    "                \n",
    "                ba=np.array(row[2])\n",
    "                bb=np.array(row[4])\n",
    "                bc=np.array(row[7])\n",
    "                bd=np.array(row[10])\n",
    "                \n",
    "                latMyGps=aa.astype(np.float)\n",
    "                latGps= ab.astype(np.float)\n",
    "                latNoKal=ac.astype(np.float)\n",
    "                latKal=ad.astype(np.float)\n",
    "                \n",
    "                longMyGps=ba.astype(np.float)\n",
    "                longGps=bb.astype(np.float)\n",
    "                longNoKal=bc.astype(np.float)\n",
    "                longtKal=bd.astype(np.float)\n",
    "                \n",
    "                rmsevalLatGps = rmse(latMyGps,latGps)\n",
    "                rmsevalLatNoKal = rmse(latMyGps,latNoKal)\n",
    "                rmsevalLatKal = rmse(latMyGps,latKal)\n",
    "                \n",
    "                rmsevalLongGps = rmse(longMyGps,longGps)\n",
    "                rmsevalLongNoKal = rmse(longMyGps,longNoKal)\n",
    "                rmsevalLongKal = rmse(longMyGps,longtKal)\n",
    "                \n",
    "#                 row.append(rmsevalLatGps)\n",
    "#                 row.append(rmsevalLatNoKal)\n",
    "#                 row.append(rmsevalLatKal)\n",
    "#                 row.append(rmsevalLongGps)\n",
    "#                 row.append(rmsevalLongNoKal)\n",
    "#                 row.append(rmsevalLongKal)\n",
    "                print(\"Lat: {\",i,\"}\",rmsevalLatGps,\", \",rmsevalLatNoKal,\", \",rmsevalLatKal)\n",
    "                print(\"Long: {\",i,\"}\",rmsevalLongGps,\", \",rmsevalLongNoKal,\", \",rmsevalLongKal)\n",
    "                print()\n",
    "#                 csv_writer.writerow(row)\n",
    "\n"
   ]
  },
  {
   "cell_type": "code",
   "execution_count": null,
   "metadata": {},
   "outputs": [],
   "source": [
    "file = pd.read_csv(\"Hasil.csv\")\n",
    "file.set_index('no')[['rmsevalLatGps', 'rmsevalLatNoKal','rmsevalLatKal']].plot.bar().legend(['RMSE Value on GPS', \n",
    "                                                                                              'RMSE Value TDoA Without Kalman filter',\n",
    "                                                                                              'RMSE Value TDOA With Kalman filter'])\n",
    "plt.show()\n",
    "\n",
    "file.set_index('no')[['rmsevalLongGps', 'rmsevalLongNoKal','rmsevalLongKal']].plot.bar().legend(['RMSE Value on GPS', \n",
    "                                                                                              'RMSE Value TDoA Without Kalman filter',\n",
    "                                                                                              'RMSE Value TDoA With Kalman filter'])\n",
    "plt.show()"
   ]
  }
 ],
 "metadata": {
  "kernelspec": {
   "display_name": "Python 3",
   "language": "python",
   "name": "python3"
  },
  "language_info": {
   "codemirror_mode": {
    "name": "ipython",
    "version": 3
   },
   "file_extension": ".py",
   "mimetype": "text/x-python",
   "name": "python",
   "nbconvert_exporter": "python",
   "pygments_lexer": "ipython3",
   "version": "3.8.2"
  }
 },
 "nbformat": 4,
 "nbformat_minor": 4
}
